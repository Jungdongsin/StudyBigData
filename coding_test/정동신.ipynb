{
 "cells": [
  {
   "cell_type": "markdown",
   "metadata": {},
   "source": [
    "#### 1번문제\n",
    "1. 반지름 값을 입력받아 원의 넓이를 구하여 출력하는 프로그램을 구현하세요. π는 3.141592 입니다. 모듈을 사용하여도 됩니다~!!"
   ]
  },
  {
   "cell_type": "code",
   "execution_count": 1,
   "metadata": {},
   "outputs": [
    {
     "name": "stdout",
     "output_type": "stream",
     "text": [
      "59.44677461999999\n"
     ]
    }
   ],
   "source": [
    "#원의 넓이 = 반지름(r) X 반지름(r) X 원주율(π)\n",
    "π = 3.141592\n",
    "r = float(input(\"input radius : \"))\n",
    "\n",
    "if r >= 0:\n",
    "    x = (r ** 2) * π\n",
    "print(x)"
   ]
  },
  {
   "cell_type": "markdown",
   "metadata": {},
   "source": [
    "#### 2번문제\n",
    "2. 태양계는 수성, 금성, 지구, 화성, 목성, 토성, 천왕성, 해왕성으로 구성됩니다. 영어 이름은 Mercury, Venus, Earth, Mars, Jupiter,  Saturn, Uranus, Neptune 입니다.  행성의 영어 이름을 입력하면 한글 행성 이름이 출력 되는 프로그램을 구현하세요.\n"
   ]
  },
  {
   "cell_type": "code",
   "execution_count": 133,
   "metadata": {},
   "outputs": [
    {
     "name": "stdout",
     "output_type": "stream",
     "text": [
      "해왕성\n"
     ]
    }
   ],
   "source": [
    "x = input(\"name : \")\n",
    "\n",
    "if x == \"Mercury\":\n",
    "    print(\"수성\")\n",
    "elif x == \"Venus\":\n",
    "    print(\"금성\")\n",
    "elif x == \"Earth\":\n",
    "    print(\"지구\")\n",
    "elif x == \"Mars\":\n",
    "    print(\"화성\")\n",
    "elif x == \"Jupiter\":\n",
    "    print(\"목성\")\n",
    "elif x == \"Saturn\":\n",
    "    print(\"토성\")\n",
    "elif x == \"Uranus\":\n",
    "    print(\"천왕성\")\n",
    "elif x == \"Neptune\":\n",
    "    print(\"해왕성\")"
   ]
  },
  {
   "cell_type": "markdown",
   "metadata": {},
   "source": [
    "#### 3번문제\n",
    "3. 입력한 영어 문자열의 단어의 수를 출력하고 입력된 단어를 짝수로 대문자로 변경하여 출력하는 프로그램을 구현하세요. 예) I'm going to leave the door open = 7 / \n",
    "I'm GOING to LEAVE the DOOR open"
   ]
  },
  {
   "cell_type": "code",
   "execution_count": 14,
   "metadata": {},
   "outputs": [
    {
     "name": "stdout",
     "output_type": "stream",
     "text": [
      "7\n",
      " i'm GOING to LEAVE the DOOR open\n"
     ]
    }
   ],
   "source": [
    "\n",
    "x = input(\"input sentence : \")\n",
    "x_count = len(x.split(\" \"))\n",
    "arr = x.split(\" \")\n",
    "result = \" \"\n",
    "\n",
    "for i in range(0, len(arr)):\n",
    "    for j in range(0, len(arr[i])):\n",
    "        if i % 2 != 0:\n",
    "            result += arr[i][j].upper()\n",
    "        else:\n",
    "            result += arr[i][j].lower()\n",
    "    result += \" \"\n",
    "result = result[:-1]\n",
    "print(x_count)\n",
    "print(result)"
   ]
  },
  {
   "cell_type": "markdown",
   "metadata": {},
   "source": [
    "#### 4번문제\n",
    "4. 입력한 수를 거꾸로 출력하는 프로그램을 구현하세요. 예) 1 3 5 7 9 --> 9 7 5 3 1\n"
   ]
  },
  {
   "cell_type": "code",
   "execution_count": 15,
   "metadata": {},
   "outputs": [
    {
     "name": "stdout",
     "output_type": "stream",
     "text": [
      "5 4 3 2 1\n"
     ]
    }
   ],
   "source": [
    "x = input(\"input : \")\n",
    "x_list = list(x)\n",
    "x_list.reverse()\n",
    "\n",
    "print(\" \".join(x_list))"
   ]
  },
  {
   "cell_type": "markdown",
   "metadata": {},
   "source": [
    "#### 5번문제\n",
    "5. 구구단을 수행할 단번호를 입력하면 그 단의 9까지의 결과를 나열하는 프로그램을 입력하세요. 예) 3 --> 3 6 9 12 15 18 21 24 27"
   ]
  },
  {
   "cell_type": "code",
   "execution_count": 132,
   "metadata": {},
   "outputs": [
    {
     "name": "stdout",
     "output_type": "stream",
     "text": [
      "7\n",
      "14\n",
      "21\n",
      "28\n",
      "35\n",
      "42\n",
      "49\n",
      "56\n",
      "63\n"
     ]
    }
   ],
   "source": [
    "x = int(input(\"input : \"))\n",
    "result = []\n",
    "\n",
    "for i in range(1,10):\n",
    "    result = x * i\n",
    "    print(result)"
   ]
  },
  {
   "cell_type": "code",
   "execution_count": null,
   "metadata": {},
   "outputs": [],
   "source": []
  }
 ],
 "metadata": {
  "kernelspec": {
   "display_name": "Python 3.10.5 64-bit",
   "language": "python",
   "name": "python3"
  },
  "language_info": {
   "codemirror_mode": {
    "name": "ipython",
    "version": 3
   },
   "file_extension": ".py",
   "mimetype": "text/x-python",
   "name": "python",
   "nbconvert_exporter": "python",
   "pygments_lexer": "ipython3",
   "version": "3.10.5"
  },
  "orig_nbformat": 4,
  "vscode": {
   "interpreter": {
    "hash": "beedbe2faf2f7048d727558d0bc3221e7eba2a0b921cac4d4771b2feb8f74b30"
   }
  }
 },
 "nbformat": 4,
 "nbformat_minor": 2
}
